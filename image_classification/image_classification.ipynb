{
 "cells": [
  {
   "cell_type": "markdown",
   "metadata": {
    "collapsed": true
   },
   "source": [
    "# Image Classification\n",
    "In this project, you'll classify images from the [CIFAR-10 dataset](https://www.cs.toronto.edu/~kriz/cifar.html).  The dataset consists of airplanes, dogs, cats, and other objects. You'll preprocess the images, then train a convolutional neural network on all the samples. The images need to be normalized and the labels need to be one-hot encoded.  You'll get to apply what you learned and build a convolutional, max pooling, dropout, and fully connected layers.  At the end, you'll get to see your neural network's predictions on the sample images.\n",
    "## Get the Data\n",
    "Run the following cell to download the [CIFAR-10 dataset for python](https://www.cs.toronto.edu/~kriz/cifar-10-python.tar.gz)."
   ]
  },
  {
   "cell_type": "code",
   "execution_count": 36,
   "metadata": {
    "collapsed": false
   },
   "outputs": [
    {
     "name": "stdout",
     "output_type": "stream",
     "text": [
      "All files found!\n"
     ]
    }
   ],
   "source": [
    "\"\"\"\n",
    "DON'T MODIFY ANYTHING IN THIS CELL THAT IS BELOW THIS LINE\n",
    "\"\"\"\n",
    "from urllib.request import urlretrieve\n",
    "from os.path import isfile, isdir\n",
    "from tqdm import tqdm\n",
    "import problem_unittests as tests\n",
    "import tarfile\n",
    "\n",
    "cifar10_dataset_folder_path = 'cifar-10-batches-py'\n",
    "\n",
    "class DLProgress(tqdm):\n",
    "    last_block = 0\n",
    "\n",
    "    def hook(self, block_num=1, block_size=1, total_size=None):\n",
    "        self.total = total_size\n",
    "        self.update((block_num - self.last_block) * block_size)\n",
    "        self.last_block = block_num\n",
    "\n",
    "if not isfile('cifar-10-python.tar.gz'):\n",
    "    with DLProgress(unit='B', unit_scale=True, miniters=1, desc='CIFAR-10 Dataset') as pbar:\n",
    "        urlretrieve(\n",
    "            'https://www.cs.toronto.edu/~kriz/cifar-10-python.tar.gz',\n",
    "            'cifar-10-python.tar.gz',\n",
    "            pbar.hook)\n",
    "\n",
    "if not isdir(cifar10_dataset_folder_path):\n",
    "    with tarfile.open('cifar-10-python.tar.gz') as tar:\n",
    "        tar.extractall()\n",
    "        tar.close()\n",
    "\n",
    "\n",
    "tests.test_folder_path(cifar10_dataset_folder_path)"
   ]
  },
  {
   "cell_type": "markdown",
   "metadata": {},
   "source": [
    "## Explore the Data\n",
    "The dataset is broken into batches to prevent your machine from running out of memory.  The CIFAR-10 dataset consists of 5 batches, named `data_batch_1`, `data_batch_2`, etc.. Each batch contains the labels and images that are one of the following:\n",
    "* airplane\n",
    "* automobile\n",
    "* bird\n",
    "* cat\n",
    "* deer\n",
    "* dog\n",
    "* frog\n",
    "* horse\n",
    "* ship\n",
    "* truck\n",
    "\n",
    "Understanding a dataset is part of making predictions on the data.  Play around with the code cell below by changing the `batch_id` and `sample_id`. The `batch_id` is the id for a batch (1-5). The `sample_id` is the id for a image and label pair in the batch.\n",
    "\n",
    "Ask yourself \"What are all possible labels?\", \"What is the range of values for the image data?\", \"Are the labels in order or random?\".  Answers to questions like these will help you preprocess the data and end up with better predictions."
   ]
  },
  {
   "cell_type": "code",
   "execution_count": 37,
   "metadata": {
    "collapsed": false
   },
   "outputs": [
    {
     "name": "stdout",
     "output_type": "stream",
     "text": [
      "\n",
      "Stats of batch 1:\n",
      "Samples: 10000\n",
      "Label Counts: {0: 1005, 1: 974, 2: 1032, 3: 1016, 4: 999, 5: 937, 6: 1030, 7: 1001, 8: 1025, 9: 981}\n",
      "First 20 Labels: [6, 9, 9, 4, 1, 1, 2, 7, 8, 3, 4, 7, 7, 2, 9, 9, 9, 3, 2, 6]\n",
      "\n",
      "Example of Image 5:\n",
      "Image - Min Value: 0 Max Value: 252\n",
      "Image - Shape: (32, 32, 3)\n",
      "Label - Label Id: 1 Name: automobile\n"
     ]
    },
    {
     "data": {
      "image/png": "[encoded data removed]",
      "text/plain": [
       "<matplotlib.figure.Figure at 0x7f5289127978>"
      ]
     },
     "metadata": {
      "image/png": {
       "height": 250,
       "width": 253
      }
     },
     "output_type": "display_data"
    }
   ],
   "source": [
    "%matplotlib inline\n",
    "%config InlineBackend.figure_format = 'retina'\n",
    "\n",
    "import helper\n",
    "import numpy as np\n",
    "\n",
    "# Explore the dataset\n",
    "batch_id = 1\n",
    "sample_id = 5\n",
    "helper.display_stats(cifar10_dataset_folder_path, batch_id, sample_id)"
   ]
  },
  {
   "cell_type": "markdown",
   "metadata": {},
   "source": [
    "## Implement Preprocess Functions\n",
    "### Normalize\n",
    "In the cell below, implement the `normalize` function to take in image data, `x`, and return it as a normalized Numpy array. The values should be in the range of 0 to 1, inclusive.  The return object should be the same shape as `x`."
   ]
  },
  {
   "cell_type": "code",
   "execution_count": 38,
   "metadata": {
    "collapsed": false
   },
   "outputs": [
    {
     "name": "stdout",
     "output_type": "stream",
     "text": [
      "Tests Passed\n"
     ]
    }
   ],
   "source": [
    "def normalize(x):\n",
    "    \"\"\"\n",
    "    Normalize a list of sample image data in the range of 0 to 1\n",
    "    : x: List of image data.  The image shape is (32, 32, 3)\n",
    "    : return: Numpy array of normalize data\n",
    "    \"\"\"\n",
    "    # TODO: Implement Function\n",
    "    pxdepth = 255.0\n",
    "    xnorm = x/pxdepth\n",
    "    return xnorm\n",
    "\n",
    "\n",
    "\"\"\"\n",
    "DON'T MODIFY ANYTHING IN THIS CELL THAT IS BELOW THIS LINE\n",
    "\"\"\"\n",
    "tests.test_normalize(normalize)"
   ]
  },
  {
   "cell_type": "markdown",
   "metadata": {},
   "source": [
    "### One-hot encode\n",
    "Just like the previous code cell, you'll be implementing a function for preprocessing.  This time, you'll implement the `one_hot_encode` function. The input, `x`, are a list of labels.  Implement the function to return the list of labels as One-Hot encoded Numpy array.  The possible values for labels are 0 to 9. The one-hot encoding function should return the same encoding for each value between each call to `one_hot_encode`.  Make sure to save the map of encodings outside the function.\n",
    "\n",
    "**Hint:**\n",
    "\n",
    "Look into LabelBinarizer in the preprocessing module of sklearn."
   ]
  },
  {
   "cell_type": "code",
   "execution_count": 40,
   "metadata": {
    "collapsed": false
   },
   "outputs": [
    {
     "name": "stdout",
     "output_type": "stream",
     "text": [
      "Tests Passed\n"
     ]
    }
   ],
   "source": [
    "def one_hot_encode(x):\n",
    "    \"\"\"\n",
    "    One hot encode a list of sample labels. Return a one-hot encoded vector for each label.\n",
    "    : x: List of sample Labels\n",
    "    : return: Numpy array of one-hot encoded labels\n",
    "    \"\"\"\n",
    "    # TODO: Implement Function\n",
    "    from sklearn import preprocessing\n",
    "    l = preprocessing.LabelBinarizer()\n",
    "    l.fit([0,1,2,3,4,5,6,7,8,9])\n",
    "    x_labels = l.transform(x)\n",
    "    return x_labels\n",
    "    \n",
    "\n",
    "\n",
    "\n",
    "\"\"\"\n",
    "DON'T MODIFY ANYTHING IN THIS CELL THAT IS BELOW THIS LINE\n",
    "\"\"\"\n",
    "tests.test_one_hot_encode(one_hot_encode)"
   ]
  },
  {
   "cell_type": "markdown",
   "metadata": {},
   "source": [
    "### Randomize Data\n",
    "As you saw from exploring the data above, the order of the samples are randomized.  It doesn't hurt to randomize it again, but you don't need to for this dataset."
   ]
  },
  {
   "cell_type": "markdown",
   "metadata": {},
   "source": [
    "## Preprocess all the data and save it\n",
    "Running the code cell below will preprocess all the CIFAR-10 data and save it to file. The code below also uses 10% of the training data for validation."
   ]
  },
  {
   "cell_type": "code",
   "execution_count": 41,
   "metadata": {
    "collapsed": false
   },
   "outputs": [],
   "source": [
    "\"\"\"\n",
    "DON'T MODIFY ANYTHING IN THIS CELL\n",
    "\"\"\"\n",
    "# Preprocess Training, Validation, and Testing Data\n",
    "helper.preprocess_and_save_data(cifar10_dataset_folder_path, normalize, one_hot_encode)"
   ]
  },
  {
   "cell_type": "markdown",
   "metadata": {},
   "source": [
    "# Check Point\n",
    "This is your first checkpoint.  If you ever decide to come back to this notebook or have to restart the notebook, you can start from here.  The preprocessed data has been saved to disk."
   ]
  },
  {
   "cell_type": "code",
   "execution_count": 42,
   "metadata": {
    "collapsed": true
   },
   "outputs": [],
   "source": [
    "\"\"\"\n",
    "DON'T MODIFY ANYTHING IN THIS CELL\n",
    "\"\"\"\n",
    "import pickle\n",
    "import problem_unittests as tests\n",
    "import helper\n",
    "\n",
    "# Load the Preprocessed Validation data\n",
    "valid_features, valid_labels = pickle.load(open('preprocess_validation.p', mode='rb'))"
   ]
  },
  {
   "cell_type": "markdown",
   "metadata": {},
   "source": [
    "## Build the network\n",
    "For the neural network, you'll build each layer into a function.  Most of the code you've seen has been outside of functions. To test your code more thoroughly, we require that you put each layer in a function.  This allows us to give you better feedback and test for simple mistakes using our unittests before you submit your project.\n",
    "\n",
    ">**Note:** If you're finding it hard to dedicate enough time for this course each week, we've provided a small shortcut to this part of the project. In the next couple of problems, you'll have the option to use classes from the [TensorFlow Layers](https://www.tensorflow.org/api_docs/python/tf/layers) or [TensorFlow Layers (contrib)](https://www.tensorflow.org/api_guides/python/contrib.layers) packages to build each layer, except the layers you build in the \"Convolutional and Max Pooling Layer\" section.  TF Layers is similar to Keras's and TFLearn's abstraction to layers, so it's easy to pickup.\n",
    "\n",
    ">However, if you would like to get the most out of this course, try to solve all the problems _without_ using anything from the TF Layers packages. You **can** still use classes from other packages that happen to have the same name as ones you find in TF Layers! For example, instead of using the TF Layers version of the `conv2d` class, [tf.layers.conv2d](https://www.tensorflow.org/api_docs/python/tf/layers/conv2d), you would want to use the TF Neural Network version of `conv2d`, [tf.nn.conv2d](https://www.tensorflow.org/api_docs/python/tf/nn/conv2d). \n",
    "\n",
    "Let's begin!\n",
    "\n",
    "### Input\n",
    "The neural network needs to read the image data, one-hot encoded labels, and dropout keep probability. Implement the following functions\n",
    "* Implement `neural_net_image_input`\n",
    " * Return a [TF Placeholder](https://www.tensorflow.org/api_docs/python/tf/placeholder)\n",
    " * Set the shape using `image_shape` with batch size set to `None`.\n",
    " * Name the TensorFlow placeholder \"x\" using the TensorFlow `name` parameter in the [TF Placeholder](https://www.tensorflow.org/api_docs/python/tf/placeholder).\n",
    "* Implement `neural_net_label_input`\n",
    " * Return a [TF Placeholder](https://www.tensorflow.org/api_docs/python/tf/placeholder)\n",
    " * Set the shape using `n_classes` with batch size set to `None`.\n",
    " * Name the TensorFlow placeholder \"y\" using the TensorFlow `name` parameter in the [TF Placeholder](https://www.tensorflow.org/api_docs/python/tf/placeholder).\n",
    "* Implement `neural_net_keep_prob_input`\n",
    " * Return a [TF Placeholder](https://www.tensorflow.org/api_docs/python/tf/placeholder) for dropout keep probability.\n",
    " * Name the TensorFlow placeholder \"keep_prob\" using the TensorFlow `name` parameter in the [TF Placeholder](https://www.tensorflow.org/api_docs/python/tf/placeholder).\n",
    "\n",
    "These names will be used at the end of the project to load your saved model.\n",
    "\n",
    "Note: `None` for shapes in TensorFlow allow for a dynamic size."
   ]
  },
  {
   "cell_type": "code",
   "execution_count": 43,
   "metadata": {
    "collapsed": false
   },
   "outputs": [
    {
     "name": "stdout",
     "output_type": "stream",
     "text": [
      "Image Input Tests Passed.\n",
      "Label Input Tests Passed.\n",
      "Keep Prob Tests Passed.\n"
     ]
    }
   ],
   "source": [
    "import tensorflow as tf\n",
    "\n",
    "def neural_net_image_input(image_shape):\n",
    "    \"\"\"\n",
    "    Return a Tensor for a batch of image input\n",
    "    : image_shape: Shape of the images\n",
    "    : return: Tensor for image input.\n",
    "    \"\"\"\n",
    "    # TODO: Implement Function\n",
    "    \n",
    "    w = image_shape[0]\n",
    "    h = image_shape[1]\n",
    "    num_channel = image_shape[2]\n",
    "    \n",
    "    tf.placeholder(tf.float32,shape = (None,w,h,num_channel),name = 'x')\n",
    "    \n",
    "    output = tf.get_default_graph().get_tensor_by_name(\"x:0\")\n",
    "    \n",
    "    return output\n",
    "\n",
    "\n",
    "def neural_net_label_input(n_classes):\n",
    "    \"\"\"\n",
    "    Return a Tensor for a batch of label input\n",
    "    : n_classes: Number of classes\n",
    "    : return: Tensor for label input.\n",
    "    \"\"\"\n",
    "    # TODO: Implement Function\n",
    "    \n",
    "    tf.placeholder(tf.float32,shape=(None,n_classes), name='y')\n",
    "    \n",
    "    output =  tf.get_default_graph().get_tensor_by_name(\"y:0\")\n",
    "    \n",
    "    return output\n",
    "\n",
    "\n",
    "def neural_net_keep_prob_input():\n",
    "    \"\"\"\n",
    "    Return a Tensor for keep probability\n",
    "    : return: Tensor for keep probability.\n",
    "    \"\"\"\n",
    "    # TODO: Implement Function\n",
    "    \n",
    "    tf.placeholder(tf.float32, name='keep_prob')\n",
    "    \n",
    "    output = tf.get_default_graph().get_tensor_by_name(\"keep_prob:0\")\n",
    "   \n",
    "    \n",
    "    return output\n",
    "\n",
    "\n",
    "\"\"\"\n",
    "DON'T MODIFY ANYTHING IN THIS CELL THAT IS BELOW THIS LINE\n",
    "\"\"\"\n",
    "tf.reset_default_graph()\n",
    "tests.test_nn_image_inputs(neural_net_image_input)\n",
    "tests.test_nn_label_inputs(neural_net_label_input)\n",
    "tests.test_nn_keep_prob_inputs(neural_net_keep_prob_input)"
   ]
  },
  {
   "cell_type": "markdown",
   "metadata": {},
   "source": [
    "### Convolution and Max Pooling Layer\n",
    "Convolution layers have a lot of success with images. For this code cell, you should implement the function `conv2d_maxpool` to apply convolution then max pooling:\n",
    "* Create the weight and bias using `conv_ksize`, `conv_num_outputs` and the shape of `x_tensor`.\n",
    "* Apply a convolution to `x_tensor` using weight and `conv_strides`.\n",
    " * We recommend you use same padding, but you're welcome to use any padding.\n",
    "* Add bias\n",
    "* Add a nonlinear activation to the convolution.\n",
    "* Apply Max Pooling using `pool_ksize` and `pool_strides`.\n",
    " * We recommend you use same padding, but you're welcome to use any padding.\n",
    "\n",
    "**Note:** You **can't** use [TensorFlow Layers](https://www.tensorflow.org/api_docs/python/tf/layers) or [TensorFlow Layers (contrib)](https://www.tensorflow.org/api_guides/python/contrib.layers) for **this** layer, but you can still use TensorFlow's [Neural Network](https://www.tensorflow.org/api_docs/python/tf/nn) package. You may still use the shortcut option for all the **other** layers.\n",
    "\n",
    "** Hint: **\n",
    "\n",
    "When unpacking values as an argument in Python, look into the [unpacking](https://docs.python.org/3/tutorial/controlflow.html#unpacking-argument-lists) operator. "
   ]
  },
  {
   "cell_type": "code",
   "execution_count": 44,
   "metadata": {
    "collapsed": false
   },
   "outputs": [
    {
     "name": "stdout",
     "output_type": "stream",
     "text": [
      "10\n",
      "(2, 2)\n",
      "(?, 32, 32, 5)\n",
      "5\n",
      "Tests Passed\n"
     ]
    }
   ],
   "source": [
    "def conv2d_maxpool(x_tensor, conv_num_outputs, conv_ksize, conv_strides, pool_ksize, pool_strides):\n",
    "    \"\"\"\n",
    "    Apply convolution then max pooling to x_tensor\n",
    "    :param x_tensor: TensorFlow Tensor\n",
    "    :param conv_num_outputs: Number of outputs for the convolutional layer\n",
    "    :param conv_ksize: kernal size 2-D Tuple for the convolutional layer\n",
    "    :param conv_strides: Stride 2-D Tuple for convolution\n",
    "    :param pool_ksize: kernal size 2-D Tuple for pool\n",
    "    :param pool_strides: Stride 2-D Tuple for pool\n",
    "    : return: A tensor that represents convolution and max pooling of x_tensor\n",
    "    \"\"\"\n",
    "    # TODO: Implement Function\n",
    "    print(conv_num_outputs)\n",
    "    print(conv_ksize)\n",
    "    \n",
    "    \n",
    "    print(x_tensor.shape)\n",
    "    print(int(x_tensor.shape[3]))\n",
    "    \n",
    "    x_tensor_height = int(x_tensor.shape[1])\n",
    "    x_tensor_width = int(x_tensor.shape[2])\n",
    "    \n",
    "    weight = tf.Variable(tf.truncated_normal([conv_ksize[0], conv_ksize[1], int(x_tensor.shape[3]), conv_num_outputs], stddev=0.1))\n",
    "    bias = tf.Variable(tf.zeros([conv_num_outputs]))\n",
    "    conv = tf.nn.conv2d(x_tensor, weight, [1,conv_strides[0],conv_strides[1],1], padding='SAME')\n",
    "    hidden = tf.nn.relu(conv + bias)\n",
    "    hidden = tf.nn.max_pool(hidden, ksize=[1,pool_ksize[0], pool_ksize[1], 1], strides=[1,pool_strides[0], pool_strides[1],1], padding='SAME')\n",
    "    return hidden \n",
    "    \n",
    "\"\"\"\n",
    "DON'T MODIFY ANYTHING IN THIS CELL THAT IS BELOW THIS LINE\n",
    "\"\"\"\n",
    "tests.test_con_pool(conv2d_maxpool)"
   ]
  },
  {
   "cell_type": "markdown",
   "metadata": {},
   "source": [
    "### Flatten Layer\n",
    "Implement the `flatten` function to change the dimension of `x_tensor` from a 4-D tensor to a 2-D tensor.  The output should be the shape (*Batch Size*, *Flattened Image Size*). Shortcut option: you can use classes from the [TensorFlow Layers](https://www.tensorflow.org/api_docs/python/tf/layers) or [TensorFlow Layers (contrib)](https://www.tensorflow.org/api_guides/python/contrib.layers) packages for this layer. For more of a challenge, only use other TensorFlow packages."
   ]
  },
  {
   "cell_type": "code",
   "execution_count": 45,
   "metadata": {
    "collapsed": false
   },
   "outputs": [
    {
     "name": "stdout",
     "output_type": "stream",
     "text": [
      "Tests Passed\n"
     ]
    }
   ],
   "source": [
    "def flatten(x_tensor):\n",
    "    \"\"\"\n",
    "    Flatten x_tensor to (Batch Size, Flattened Image Size)\n",
    "    : x_tensor: A tensor of size (Batch Size, ...), where ... are the image dimensions.\n",
    "    : return: A tensor of size (Batch Size, Flattened Image Size).\n",
    "    \"\"\"\n",
    "    # TODO: Implement Function\n",
    "    shape = x_tensor.get_shape().as_list()\n",
    "    \n",
    "    flatx_tensor = tf.reshape(x_tensor, [-1, int(shape[1])*int(shape[2])*int(shape[3])])\n",
    "    \n",
    "    return flatx_tensor\n",
    "\n",
    "\n",
    "\"\"\"\n",
    "DON'T MODIFY ANYTHING IN THIS CELL THAT IS BELOW THIS LINE\n",
    "\"\"\"\n",
    "tests.test_flatten(flatten)"
   ]
  },
  {
   "cell_type": "markdown",
   "metadata": {},
   "source": [
    "### Fully-Connected Layer\n",
    "Implement the `fully_conn` function to apply a fully connected layer to `x_tensor` with the shape (*Batch Size*, *num_outputs*). Shortcut option: you can use classes from the [TensorFlow Layers](https://www.tensorflow.org/api_docs/python/tf/layers) or [TensorFlow Layers (contrib)](https://www.tensorflow.org/api_guides/python/contrib.layers) packages for this layer. For more of a challenge, only use other TensorFlow packages."
   ]
  },
  {
   "cell_type": "code",
   "execution_count": 46,
   "metadata": {
    "collapsed": false
   },
   "outputs": [
    {
     "name": "stdout",
     "output_type": "stream",
     "text": [
      "Tests Passed\n"
     ]
    }
   ],
   "source": [
    "def fully_conn(x_tensor, num_outputs):\n",
    "    \"\"\"\n",
    "    Apply a fully connected layer to x_tensor using weight and bias\n",
    "    : x_tensor: A 2-D tensor where the first dimension is batch size.\n",
    "    : num_outputs: The number of output that the new tensor should be.\n",
    "    : return: A 2-D tensor where the second dimension is num_outputs.\n",
    "    \"\"\"\n",
    "    # TODO: Implement Function\n",
    "    \n",
    "    weight_fully_conn = tf.Variable(tf.truncated_normal([int(x_tensor.shape[1]) , num_outputs], stddev=0.1))\n",
    "    \n",
    "    bias_fully_conn = tf.Variable(tf.constant(1.0,shape=[num_outputs]))\n",
    "    \n",
    "    output = tf.matmul(x_tensor, weight_fully_conn) + bias_fully_conn\n",
    "    \n",
    "    output = tf.sigmoid(output)\n",
    "    \n",
    "    return output\n",
    "\n",
    "\n",
    "\"\"\"\n",
    "DON'T MODIFY ANYTHING IN THIS CELL THAT IS BELOW THIS LINE\n",
    "\"\"\"\n",
    "tests.test_fully_conn(fully_conn)"
   ]
  },
  {
   "cell_type": "markdown",
   "metadata": {},
   "source": [
    "### Output Layer\n",
    "Implement the `output` function to apply a fully connected layer to `x_tensor` with the shape (*Batch Size*, *num_outputs*). Shortcut option: you can use classes from the [TensorFlow Layers](https://www.tensorflow.org/api_docs/python/tf/layers) or [TensorFlow Layers (contrib)](https://www.tensorflow.org/api_guides/python/contrib.layers) packages for this layer. For more of a challenge, only use other TensorFlow packages.\n",
    "\n",
    "**Note:** Activation, softmax, or cross entropy should **not** be applied to this."
   ]
  },
  {
   "cell_type": "code",
   "execution_count": 47,
   "metadata": {
    "collapsed": false
   },
   "outputs": [
    {
     "name": "stdout",
     "output_type": "stream",
     "text": [
      "Tests Passed\n"
     ]
    }
   ],
   "source": [
    "def output(x_tensor, num_outputs):\n",
    "    \"\"\"\n",
    "    Apply a output layer to x_tensor using weight and bias\n",
    "    : x_tensor: A 2-D tensor where the first dimension is batch size.\n",
    "    : num_outputs: The number of output that the new tensor should be.\n",
    "    : return: A 2-D tensor where the second dimension is num_outputs.\n",
    "    \"\"\"\n",
    "    # TODO: Implement Function\n",
    "    batch_size = int(x_tensor.shape[1])\n",
    "    \n",
    "    weight_fully_conn = tf.Variable(tf.truncated_normal([batch_size, num_outputs],stddev=0.1))\n",
    "    \n",
    "    bias_fully_conn = tf.Variable(tf.constant(1.0,shape=[num_outputs]))\n",
    "    \n",
    "    output = tf.matmul(x_tensor, weight_fully_conn) + bias_fully_conn\n",
    "    \n",
    "    return output\n",
    "\n",
    "\"\"\"\n",
    "DON'T MODIFY ANYTHING IN THIS CELL THAT IS BELOW THIS LINE\n",
    "\"\"\"\n",
    "tests.test_output(output)"
   ]
  },
  {
   "cell_type": "markdown",
   "metadata": {},
   "source": [
    "### Create Convolutional Model\n",
    "Implement the function `conv_net` to create a convolutional neural network model. The function takes in a batch of images, `x`, and outputs logits.  Use the layers you created above to create this model:\n",
    "\n",
    "* Apply 1, 2, or 3 Convolution and Max Pool layers\n",
    "* Apply a Flatten Layer\n",
    "* Apply 1, 2, or 3 Fully Connected Layers\n",
    "* Apply an Output Layer\n",
    "* Return the output\n",
    "* Apply [TensorFlow's Dropout](https://www.tensorflow.org/api_docs/python/tf/nn/dropout) to one or more layers in the model using `keep_prob`. "
   ]
  },
  {
   "cell_type": "code",
   "execution_count": 48,
   "metadata": {
    "collapsed": false
   },
   "outputs": [
    {
     "name": "stdout",
     "output_type": "stream",
     "text": [
      "16\n",
      "(4, 4)\n",
      "(?, 32, 32, 3)\n",
      "3\n",
      "16\n",
      "(4, 4)\n",
      "(?, 8, 8, 16)\n",
      "16\n",
      "16\n",
      "(4, 4)\n",
      "(?, 2, 2, 16)\n",
      "16\n",
      "16\n",
      "(4, 4)\n",
      "(?, 32, 32, 3)\n",
      "3\n",
      "16\n",
      "(4, 4)\n",
      "(?, 8, 8, 16)\n",
      "16\n",
      "16\n",
      "(4, 4)\n",
      "(?, 2, 2, 16)\n",
      "16\n",
      "Neural Network Built!\n"
     ]
    }
   ],
   "source": [
    "def conv_net(x, keep_prob):\n",
    "    \"\"\"\n",
    "    Create a convolutional neural network model\n",
    "    : x: Placeholder tensor that holds image data.\n",
    "    : keep_prob: Placeholder tensor that hold dropout keep probability.\n",
    "    : return: Tensor that represents logits\n",
    "    \"\"\"\n",
    "    # TODO: Apply 1, 2, or 3 Convolution and Max Pool layers\n",
    "    #    Play around with different number of outputs, kernel size and stride\n",
    "    # Function Definition from Above:\n",
    "    #    conv2d_maxpool(x_tensor, conv_num_outputs, conv_ksize, conv_strides, pool_ksize, pool_strides)\n",
    "    layer_1 = conv2d_maxpool(x, 16, (4,4), (2,2), (2,2), (2,2))\n",
    "    layer_1 = tf.layers.batch_normalization(layer_1, axis=-1)\n",
    "    layer_2 = conv2d_maxpool(layer_1, 16, (4,4), (2,2), (2,2), (2,2))\n",
    "    layer_1 = tf.layers.batch_normalization(layer_2, axis=-1)\n",
    "    layer_3 = conv2d_maxpool(layer_2, 16, (4,4), (2,2), (2,2), (2,2))\n",
    "    layer_1 = tf.layers.batch_normalization(layer_3, axis=-1)\n",
    "\n",
    "    # TODO: Apply a Flatten Layer\n",
    "    # Function Definition from Above:\n",
    "    #   flatten(x_tensor)\n",
    "    \n",
    "    layer_flat = flatten(layer_3)\n",
    "    \n",
    "\n",
    "    # TODO: Apply 1, 2, or 3 Fully Connected Layers\n",
    "    #    Play around with different number of outputs\n",
    "    # Function Definition from Above:\n",
    "    #   fully_conn(x_tensor, num_outputs)\n",
    "    \n",
    "    layerfully_conn = fully_conn(layer_flat, 1000)\n",
    "    \n",
    "    layerfully_conn = tf.nn.dropout(layerfully_conn, keep_prob)\n",
    "    \n",
    "    layerfully_conn = fully_conn(layerfully_conn, 500)\n",
    "    \n",
    "    layerfully_conn = fully_conn(layerfully_conn, 10)\n",
    "    \n",
    "    \n",
    "    # TODO: Apply an Output Layer\n",
    "    #    Set this to the number of classes\n",
    "    # Function Definition from Above:\n",
    "    #   output(x_tensor, num_outputs)\n",
    "    \n",
    "    logits = output(layerfully_conn,10)\n",
    "    \n",
    "    # TODO: return output\n",
    "    return logits\n",
    "\n",
    "\n",
    "\"\"\"\n",
    "DON'T MODIFY ANYTHING IN THIS CELL THAT IS BELOW THIS LINE\n",
    "\"\"\"\n",
    "\n",
    "##############################\n",
    "## Build the Neural Network ##\n",
    "##############################\n",
    "\n",
    "# Remove previous weights, bias, inputs, etc..\n",
    "tf.reset_default_graph()\n",
    "\n",
    "# Inputs\n",
    "x = neural_net_image_input((32, 32, 3))\n",
    "y = neural_net_label_input(10)\n",
    "keep_prob = neural_net_keep_prob_input()\n",
    "\n",
    "# Model\n",
    "logits = conv_net(x, keep_prob)\n",
    "\n",
    "# Name logits Tensor, so that is can be loaded from disk after training\n",
    "logits = tf.identity(logits, name='logits')\n",
    "\n",
    "# Loss and Optimizer\n",
    "cost = tf.reduce_mean(tf.nn.softmax_cross_entropy_with_logits(logits=logits, labels=y))\n",
    "optimizer = tf.train.AdamOptimizer().minimize(cost)\n",
    "\n",
    "# Accuracy\n",
    "correct_pred = tf.equal(tf.argmax(logits, 1), tf.argmax(y, 1))\n",
    "accuracy = tf.reduce_mean(tf.cast(correct_pred, tf.float32), name='accuracy')\n",
    "\n",
    "tests.test_conv_net(conv_net)"
   ]
  },
  {
   "cell_type": "markdown",
   "metadata": {},
   "source": [
    "## Train the Neural Network\n",
    "### Single Optimization\n",
    "Implement the function `train_neural_network` to do a single optimization.  The optimization should use `optimizer` to optimize in `session` with a `feed_dict` of the following:\n",
    "* `x` for image input\n",
    "* `y` for labels\n",
    "* `keep_prob` for keep probability for dropout\n",
    "\n",
    "This function will be called for each batch, so `tf.global_variables_initializer()` has already been called.\n",
    "\n",
    "Note: Nothing needs to be returned. This function is only optimizing the neural network."
   ]
  },
  {
   "cell_type": "code",
   "execution_count": 49,
   "metadata": {
    "collapsed": false
   },
   "outputs": [
    {
     "name": "stdout",
     "output_type": "stream",
     "text": [
      "Tests Passed\n"
     ]
    }
   ],
   "source": [
    "def train_neural_network(session, optimizer, keep_probability, feature_batch, label_batch):\n",
    "    \"\"\"\n",
    "    Optimize the session on a batch of images and labels\n",
    "    : session: Current TensorFlow session\n",
    "    : optimizer: TensorFlow optimizer function\n",
    "    : keep_probability: keep probability\n",
    "    : feature_batch: Batch of Numpy image data\n",
    "    : label_batch: Batch of Numpy label data\n",
    "    \"\"\"\n",
    "    # TODO: Implement Function\n",
    "    session.run(optimizer, feed_dict = {x: feature_batch,y: label_batch,keep_prob: keep_probability})\n",
    "\n",
    "\n",
    "\n",
    "\"\"\"\n",
    "DON'T MODIFY ANYTHING IN THIS CELL THAT IS BELOW THIS LINE\n",
    "\"\"\"\n",
    "tests.test_train_nn(train_neural_network)"
   ]
  },
  {
   "cell_type": "markdown",
   "metadata": {},
   "source": [
    "### Show Stats\n",
    "Implement the function `print_stats` to print loss and validation accuracy.  Use the global variables `valid_features` and `valid_labels` to calculate validation accuracy.  Use a keep probability of `1.0` to calculate the loss and validation accuracy."
   ]
  },
  {
   "cell_type": "code",
   "execution_count": 50,
   "metadata": {
    "collapsed": false
   },
   "outputs": [],
   "source": [
    "def print_stats(session, feature_batch, label_batch, cost, accuracy):\n",
    "    \"\"\"\n",
    "    Print information about loss and validation accuracy\n",
    "    : session: Current TensorFlow session\n",
    "    : feature_batch: Batch of Numpy image data\n",
    "    : label_batch: Batch of Numpy label data\n",
    "    : cost: TensorFlow cost function\n",
    "    : accuracy: TensorFlow accuracy function\n",
    "    \"\"\"\n",
    "    # TODO: Implement Function\n",
    "    loss = session.run(cost, feed_dict = {x: feature_batch,y: label_batch,keep_prob: 1.0})\n",
    "    acc = session.run(accuracy, feed_dict = {x: valid_features,y: valid_labels,keep_prob: 1.0})\n",
    "    print('Loss: {:>10.2f}, Accuracy: {:.6f}'.format(loss, acc))\n",
    "    pass"
   ]
  },
  {
   "cell_type": "markdown",
   "metadata": {},
   "source": [
    "### Hyperparameters\n",
    "Tune the following parameters:\n",
    "* Set `epochs` to the number of iterations until the network stops learning or start overfitting\n",
    "* Set `batch_size` to the highest number that your machine has memory for.  Most people set them to common sizes of memory:\n",
    " * 64\n",
    " * 128\n",
    " * 256\n",
    " * ...\n",
    "* Set `keep_probability` to the probability of keeping a node using dropout"
   ]
  },
  {
   "cell_type": "code",
   "execution_count": 56,
   "metadata": {
    "collapsed": true
   },
   "outputs": [],
   "source": [
    "# TODO: Tune Parameters\n",
    "epochs = 50\n",
    "batch_size = 64\n",
    "keep_probability = 0.5"
   ]
  },
  {
   "cell_type": "markdown",
   "metadata": {},
   "source": [
    "### Train on a Single CIFAR-10 Batch\n",
    "Instead of training the neural network on all the CIFAR-10 batches of data, let's use a single batch. This should save time while you iterate on the model to get a better accuracy.  Once the final validation accuracy is 50% or greater, run the model on all the data in the next section."
   ]
  },
  {
   "cell_type": "code",
   "execution_count": 57,
   "metadata": {
    "collapsed": false
   },
   "outputs": [
    {
     "name": "stdout",
     "output_type": "stream",
     "text": [
      "Checking the Training on a Single Batch...\n",
      "Epoch  1, CIFAR-10 Batch 1:  Loss:       2.27, Accuracy: 0.173400\n",
      "Epoch  2, CIFAR-10 Batch 1:  Loss:       2.18, Accuracy: 0.162800\n",
      "Epoch  3, CIFAR-10 Batch 1:  Loss:       2.23, Accuracy: 0.205600\n",
      "Epoch  4, CIFAR-10 Batch 1:  Loss:       2.17, Accuracy: 0.208200\n",
      "Epoch  5, CIFAR-10 Batch 1:  Loss:       2.16, Accuracy: 0.218200\n",
      "Epoch  6, CIFAR-10 Batch 1:  Loss:       2.10, Accuracy: 0.228200\n",
      "Epoch  7, CIFAR-10 Batch 1:  Loss:       2.07, Accuracy: 0.253000\n",
      "Epoch  8, CIFAR-10 Batch 1:  Loss:       2.04, Accuracy: 0.267200\n",
      "Epoch  9, CIFAR-10 Batch 1:  Loss:       2.01, Accuracy: 0.277800\n",
      "Epoch 10, CIFAR-10 Batch 1:  Loss:       1.95, Accuracy: 0.295800\n",
      "Epoch 11, CIFAR-10 Batch 1:  Loss:       1.91, Accuracy: 0.311600\n",
      "Epoch 12, CIFAR-10 Batch 1:  Loss:       1.92, Accuracy: 0.315200\n",
      "Epoch 13, CIFAR-10 Batch 1:  Loss:       1.90, Accuracy: 0.333600\n",
      "Epoch 14, CIFAR-10 Batch 1:  Loss:       1.87, Accuracy: 0.339200\n",
      "Epoch 15, CIFAR-10 Batch 1:  Loss:       1.85, Accuracy: 0.338600\n",
      "Epoch 16, CIFAR-10 Batch 1:  Loss:       1.86, Accuracy: 0.349400\n",
      "Epoch 17, CIFAR-10 Batch 1:  Loss:       1.81, Accuracy: 0.359600\n",
      "Epoch 18, CIFAR-10 Batch 1:  Loss:       1.90, Accuracy: 0.344000\n",
      "Epoch 19, CIFAR-10 Batch 1:  Loss:       1.76, Accuracy: 0.350800\n",
      "Epoch 20, CIFAR-10 Batch 1:  Loss:       1.79, Accuracy: 0.364600\n",
      "Epoch 21, CIFAR-10 Batch 1:  Loss:       1.77, Accuracy: 0.360200\n",
      "Epoch 22, CIFAR-10 Batch 1:  Loss:       1.78, Accuracy: 0.367000\n",
      "Epoch 23, CIFAR-10 Batch 1:  Loss:       1.82, Accuracy: 0.370600\n",
      "Epoch 24, CIFAR-10 Batch 1:  Loss:       1.83, Accuracy: 0.370600\n",
      "Epoch 25, CIFAR-10 Batch 1:  Loss:       1.81, Accuracy: 0.378400\n",
      "Epoch 26, CIFAR-10 Batch 1:  Loss:       1.81, Accuracy: 0.381600\n",
      "Epoch 27, CIFAR-10 Batch 1:  Loss:       1.79, Accuracy: 0.391400\n",
      "Epoch 28, CIFAR-10 Batch 1:  Loss:       1.77, Accuracy: 0.396800\n",
      "Epoch 29, CIFAR-10 Batch 1:  Loss:       1.76, Accuracy: 0.396400\n",
      "Epoch 30, CIFAR-10 Batch 1:  Loss:       1.73, Accuracy: 0.401400\n",
      "Epoch 31, CIFAR-10 Batch 1:  Loss:       1.71, Accuracy: 0.408000\n",
      "Epoch 32, CIFAR-10 Batch 1:  Loss:       1.73, Accuracy: 0.405800\n",
      "Epoch 33, CIFAR-10 Batch 1:  Loss:       1.68, Accuracy: 0.409200\n",
      "Epoch 34, CIFAR-10 Batch 1:  Loss:       1.70, Accuracy: 0.413400\n",
      "Epoch 35, CIFAR-10 Batch 1:  Loss:       1.66, Accuracy: 0.410600\n",
      "Epoch 36, CIFAR-10 Batch 1:  Loss:       1.68, Accuracy: 0.413800\n",
      "Epoch 37, CIFAR-10 Batch 1:  Loss:       1.67, Accuracy: 0.407600\n",
      "Epoch 38, CIFAR-10 Batch 1:  Loss:       1.66, Accuracy: 0.409800\n",
      "Epoch 39, CIFAR-10 Batch 1:  Loss:       1.65, Accuracy: 0.407200\n",
      "Epoch 40, CIFAR-10 Batch 1:  Loss:       1.62, Accuracy: 0.411800\n",
      "Epoch 41, CIFAR-10 Batch 1:  Loss:       1.66, Accuracy: 0.410800\n",
      "Epoch 42, CIFAR-10 Batch 1:  Loss:       1.61, Accuracy: 0.416000\n",
      "Epoch 43, CIFAR-10 Batch 1:  Loss:       1.59, Accuracy: 0.414800\n",
      "Epoch 44, CIFAR-10 Batch 1:  Loss:       1.61, Accuracy: 0.414800\n",
      "Epoch 45, CIFAR-10 Batch 1:  Loss:       1.54, Accuracy: 0.419400\n",
      "Epoch 46, CIFAR-10 Batch 1:  Loss:       1.63, Accuracy: 0.417000\n",
      "Epoch 47, CIFAR-10 Batch 1:  Loss:       1.61, Accuracy: 0.421600\n",
      "Epoch 48, CIFAR-10 Batch 1:  Loss:       1.57, Accuracy: 0.426200\n",
      "Epoch 49, CIFAR-10 Batch 1:  Loss:       1.56, Accuracy: 0.424600\n",
      "Epoch 50, CIFAR-10 Batch 1:  Loss:       1.56, Accuracy: 0.426000\n"
     ]
    }
   ],
   "source": [
    "\"\"\"\n",
    "DON'T MODIFY ANYTHING IN THIS CELL\n",
    "\"\"\"\n",
    "print('Checking the Training on a Single Batch...')\n",
    "with tf.Session() as sess:\n",
    "    # Initializing the variables\n",
    "    sess.run(tf.global_variables_initializer())\n",
    "    \n",
    "    # Training cycle\n",
    "    for epoch in range(epochs):\n",
    "        batch_i = 1\n",
    "        for batch_features, batch_labels in helper.load_preprocess_training_batch(batch_i, batch_size):\n",
    "            train_neural_network(sess, optimizer, keep_probability, batch_features, batch_labels)\n",
    "        print('Epoch {:>2}, CIFAR-10 Batch {}:  '.format(epoch + 1, batch_i), end='')\n",
    "        print_stats(sess, batch_features, batch_labels, cost, accuracy)"
   ]
  },
  {
   "cell_type": "markdown",
   "metadata": {},
   "source": [
    "### Fully Train the Model\n",
    "Now that you got a good accuracy with a single CIFAR-10 batch, try it with all five batches."
   ]
  },
  {
   "cell_type": "code",
   "execution_count": 58,
   "metadata": {
    "collapsed": false
   },
   "outputs": [
    {
     "name": "stdout",
     "output_type": "stream",
     "text": [
      "Training...\n",
      "Epoch  1, CIFAR-10 Batch 1:  Loss:       2.30, Accuracy: 0.099800\n",
      "Epoch  1, CIFAR-10 Batch 2:  Loss:       2.22, Accuracy: 0.183000\n",
      "Epoch  1, CIFAR-10 Batch 3:  Loss:       1.96, Accuracy: 0.182200\n",
      "Epoch  1, CIFAR-10 Batch 4:  Loss:       2.01, Accuracy: 0.212200\n",
      "Epoch  1, CIFAR-10 Batch 5:  Loss:       2.05, Accuracy: 0.223200\n",
      "Epoch  2, CIFAR-10 Batch 1:  Loss:       2.11, Accuracy: 0.234400\n",
      "Epoch  2, CIFAR-10 Batch 2:  Loss:       1.95, Accuracy: 0.261400\n",
      "Epoch  2, CIFAR-10 Batch 3:  Loss:       1.69, Accuracy: 0.271800\n",
      "Epoch  2, CIFAR-10 Batch 4:  Loss:       1.82, Accuracy: 0.266600\n",
      "Epoch  2, CIFAR-10 Batch 5:  Loss:       1.93, Accuracy: 0.281600\n",
      "Epoch  3, CIFAR-10 Batch 1:  Loss:       1.92, Accuracy: 0.303600\n",
      "Epoch  3, CIFAR-10 Batch 2:  Loss:       1.95, Accuracy: 0.311800\n",
      "Epoch  3, CIFAR-10 Batch 3:  Loss:       1.54, Accuracy: 0.314800\n",
      "Epoch  3, CIFAR-10 Batch 4:  Loss:       1.81, Accuracy: 0.308200\n",
      "Epoch  3, CIFAR-10 Batch 5:  Loss:       1.82, Accuracy: 0.327000\n",
      "Epoch  4, CIFAR-10 Batch 1:  Loss:       1.86, Accuracy: 0.339000\n",
      "Epoch  4, CIFAR-10 Batch 2:  Loss:       1.92, Accuracy: 0.352800\n",
      "Epoch  4, CIFAR-10 Batch 3:  Loss:       1.44, Accuracy: 0.343800\n",
      "Epoch  4, CIFAR-10 Batch 4:  Loss:       1.72, Accuracy: 0.345200\n",
      "Epoch  4, CIFAR-10 Batch 5:  Loss:       1.74, Accuracy: 0.365800\n",
      "Epoch  5, CIFAR-10 Batch 1:  Loss:       1.80, Accuracy: 0.362800\n",
      "Epoch  5, CIFAR-10 Batch 2:  Loss:       1.89, Accuracy: 0.377200\n",
      "Epoch  5, CIFAR-10 Batch 3:  Loss:       1.34, Accuracy: 0.371400\n",
      "Epoch  5, CIFAR-10 Batch 4:  Loss:       1.63, Accuracy: 0.382200\n",
      "Epoch  5, CIFAR-10 Batch 5:  Loss:       1.66, Accuracy: 0.388800\n",
      "Epoch  6, CIFAR-10 Batch 1:  Loss:       1.75, Accuracy: 0.392000\n",
      "Epoch  6, CIFAR-10 Batch 2:  Loss:       1.86, Accuracy: 0.402000\n",
      "Epoch  6, CIFAR-10 Batch 3:  Loss:       1.30, Accuracy: 0.394400\n",
      "Epoch  6, CIFAR-10 Batch 4:  Loss:       1.62, Accuracy: 0.405200\n",
      "Epoch  6, CIFAR-10 Batch 5:  Loss:       1.57, Accuracy: 0.401400\n",
      "Epoch  7, CIFAR-10 Batch 1:  Loss:       1.77, Accuracy: 0.412600\n",
      "Epoch  7, CIFAR-10 Batch 2:  Loss:       1.82, Accuracy: 0.414200\n",
      "Epoch  7, CIFAR-10 Batch 3:  Loss:       1.22, Accuracy: 0.411800\n",
      "Epoch  7, CIFAR-10 Batch 4:  Loss:       1.57, Accuracy: 0.418200\n",
      "Epoch  7, CIFAR-10 Batch 5:  Loss:       1.55, Accuracy: 0.412800\n",
      "Epoch  8, CIFAR-10 Batch 1:  Loss:       1.66, Accuracy: 0.421800\n",
      "Epoch  8, CIFAR-10 Batch 2:  Loss:       1.76, Accuracy: 0.415000\n",
      "Epoch  8, CIFAR-10 Batch 3:  Loss:       1.21, Accuracy: 0.417200\n",
      "Epoch  8, CIFAR-10 Batch 4:  Loss:       1.54, Accuracy: 0.423400\n",
      "Epoch  8, CIFAR-10 Batch 5:  Loss:       1.53, Accuracy: 0.416200\n",
      "Epoch  9, CIFAR-10 Batch 1:  Loss:       1.65, Accuracy: 0.428600\n",
      "Epoch  9, CIFAR-10 Batch 2:  Loss:       1.71, Accuracy: 0.433000\n",
      "Epoch  9, CIFAR-10 Batch 3:  Loss:       1.18, Accuracy: 0.426800\n",
      "Epoch  9, CIFAR-10 Batch 4:  Loss:       1.53, Accuracy: 0.438600\n",
      "Epoch  9, CIFAR-10 Batch 5:  Loss:       1.48, Accuracy: 0.439800\n",
      "Epoch 10, CIFAR-10 Batch 1:  Loss:       1.60, Accuracy: 0.440200\n",
      "Epoch 10, CIFAR-10 Batch 2:  Loss:       1.63, Accuracy: 0.441600\n",
      "Epoch 10, CIFAR-10 Batch 3:  Loss:       1.16, Accuracy: 0.444600\n",
      "Epoch 10, CIFAR-10 Batch 4:  Loss:       1.56, Accuracy: 0.454600\n",
      "Epoch 10, CIFAR-10 Batch 5:  Loss:       1.46, Accuracy: 0.458400\n",
      "Epoch 11, CIFAR-10 Batch 1:  Loss:       1.53, Accuracy: 0.455400\n",
      "Epoch 11, CIFAR-10 Batch 2:  Loss:       1.57, Accuracy: 0.459400\n",
      "Epoch 11, CIFAR-10 Batch 3:  Loss:       1.16, Accuracy: 0.449000\n",
      "Epoch 11, CIFAR-10 Batch 4:  Loss:       1.54, Accuracy: 0.464400\n",
      "Epoch 11, CIFAR-10 Batch 5:  Loss:       1.43, Accuracy: 0.460000\n",
      "Epoch 12, CIFAR-10 Batch 1:  Loss:       1.52, Accuracy: 0.468200\n",
      "Epoch 12, CIFAR-10 Batch 2:  Loss:       1.53, Accuracy: 0.460000\n",
      "Epoch 12, CIFAR-10 Batch 3:  Loss:       1.11, Accuracy: 0.456800\n",
      "Epoch 12, CIFAR-10 Batch 4:  Loss:       1.54, Accuracy: 0.476600\n",
      "Epoch 12, CIFAR-10 Batch 5:  Loss:       1.42, Accuracy: 0.473800\n",
      "Epoch 13, CIFAR-10 Batch 1:  Loss:       1.47, Accuracy: 0.475200\n",
      "Epoch 13, CIFAR-10 Batch 2:  Loss:       1.50, Accuracy: 0.481600\n",
      "Epoch 13, CIFAR-10 Batch 3:  Loss:       1.08, Accuracy: 0.471000\n",
      "Epoch 13, CIFAR-10 Batch 4:  Loss:       1.49, Accuracy: 0.483200\n",
      "Epoch 13, CIFAR-10 Batch 5:  Loss:       1.44, Accuracy: 0.482600\n",
      "Epoch 14, CIFAR-10 Batch 1:  Loss:       1.44, Accuracy: 0.488200\n",
      "Epoch 14, CIFAR-10 Batch 2:  Loss:       1.48, Accuracy: 0.490600\n",
      "Epoch 14, CIFAR-10 Batch 3:  Loss:       1.06, Accuracy: 0.484800\n",
      "Epoch 14, CIFAR-10 Batch 4:  Loss:       1.48, Accuracy: 0.497200\n",
      "Epoch 14, CIFAR-10 Batch 5:  Loss:       1.42, Accuracy: 0.495000\n",
      "Epoch 15, CIFAR-10 Batch 1:  Loss:       1.37, Accuracy: 0.500600\n",
      "Epoch 15, CIFAR-10 Batch 2:  Loss:       1.46, Accuracy: 0.495600\n",
      "Epoch 15, CIFAR-10 Batch 3:  Loss:       1.04, Accuracy: 0.497400\n",
      "Epoch 15, CIFAR-10 Batch 4:  Loss:       1.41, Accuracy: 0.497600\n",
      "Epoch 15, CIFAR-10 Batch 5:  Loss:       1.42, Accuracy: 0.494200\n",
      "Epoch 16, CIFAR-10 Batch 1:  Loss:       1.34, Accuracy: 0.505000\n",
      "Epoch 16, CIFAR-10 Batch 2:  Loss:       1.43, Accuracy: 0.503800\n",
      "Epoch 16, CIFAR-10 Batch 3:  Loss:       1.04, Accuracy: 0.505200\n",
      "Epoch 16, CIFAR-10 Batch 4:  Loss:       1.40, Accuracy: 0.506800\n",
      "Epoch 16, CIFAR-10 Batch 5:  Loss:       1.39, Accuracy: 0.501800\n",
      "Epoch 17, CIFAR-10 Batch 1:  Loss:       1.34, Accuracy: 0.507400\n",
      "Epoch 17, CIFAR-10 Batch 2:  Loss:       1.41, Accuracy: 0.513000\n",
      "Epoch 17, CIFAR-10 Batch 3:  Loss:       1.03, Accuracy: 0.509600\n",
      "Epoch 17, CIFAR-10 Batch 4:  Loss:       1.38, Accuracy: 0.514400\n",
      "Epoch 17, CIFAR-10 Batch 5:  Loss:       1.36, Accuracy: 0.504600\n",
      "Epoch 18, CIFAR-10 Batch 1:  Loss:       1.29, Accuracy: 0.515200\n",
      "Epoch 18, CIFAR-10 Batch 2:  Loss:       1.39, Accuracy: 0.512400\n",
      "Epoch 18, CIFAR-10 Batch 3:  Loss:       1.04, Accuracy: 0.511800\n",
      "Epoch 18, CIFAR-10 Batch 4:  Loss:       1.36, Accuracy: 0.518200\n",
      "Epoch 18, CIFAR-10 Batch 5:  Loss:       1.40, Accuracy: 0.509600\n",
      "Epoch 19, CIFAR-10 Batch 1:  Loss:       1.26, Accuracy: 0.519000\n",
      "Epoch 19, CIFAR-10 Batch 2:  Loss:       1.39, Accuracy: 0.516200\n",
      "Epoch 19, CIFAR-10 Batch 3:  Loss:       1.03, Accuracy: 0.518200\n",
      "Epoch 19, CIFAR-10 Batch 4:  Loss:       1.32, Accuracy: 0.518000\n",
      "Epoch 19, CIFAR-10 Batch 5:  Loss:       1.37, Accuracy: 0.516800\n",
      "Epoch 20, CIFAR-10 Batch 1:  Loss:       1.28, Accuracy: 0.521000\n",
      "Epoch 20, CIFAR-10 Batch 2:  Loss:       1.35, Accuracy: 0.518000\n",
      "Epoch 20, CIFAR-10 Batch 3:  Loss:       1.02, Accuracy: 0.517200\n",
      "Epoch 20, CIFAR-10 Batch 4:  Loss:       1.30, Accuracy: 0.523800\n",
      "Epoch 20, CIFAR-10 Batch 5:  Loss:       1.38, Accuracy: 0.510200\n",
      "Epoch 21, CIFAR-10 Batch 1:  Loss:       1.24, Accuracy: 0.528800\n",
      "Epoch 21, CIFAR-10 Batch 2:  Loss:       1.31, Accuracy: 0.522800\n",
      "Epoch 21, CIFAR-10 Batch 3:  Loss:       1.00, Accuracy: 0.519200\n",
      "Epoch 21, CIFAR-10 Batch 4:  Loss:       1.27, Accuracy: 0.527200\n",
      "Epoch 21, CIFAR-10 Batch 5:  Loss:       1.33, Accuracy: 0.521200\n",
      "Epoch 22, CIFAR-10 Batch 1:  Loss:       1.22, Accuracy: 0.532600\n",
      "Epoch 22, CIFAR-10 Batch 2:  Loss:       1.30, Accuracy: 0.525200\n",
      "Epoch 22, CIFAR-10 Batch 3:  Loss:       1.00, Accuracy: 0.527400\n",
      "Epoch 22, CIFAR-10 Batch 4:  Loss:       1.28, Accuracy: 0.526800\n",
      "Epoch 22, CIFAR-10 Batch 5:  Loss:       1.35, Accuracy: 0.521600\n",
      "Epoch 23, CIFAR-10 Batch 1:  Loss:       1.20, Accuracy: 0.532200\n",
      "Epoch 23, CIFAR-10 Batch 2:  Loss:       1.29, Accuracy: 0.527600\n",
      "Epoch 23, CIFAR-10 Batch 3:  Loss:       1.01, Accuracy: 0.526400\n",
      "Epoch 23, CIFAR-10 Batch 4:  Loss:       1.26, Accuracy: 0.533200\n",
      "Epoch 23, CIFAR-10 Batch 5:  Loss:       1.33, Accuracy: 0.524600\n",
      "Epoch 24, CIFAR-10 Batch 1:  Loss:       1.21, Accuracy: 0.526600\n",
      "Epoch 24, CIFAR-10 Batch 2:  Loss:       1.31, Accuracy: 0.536000\n",
      "Epoch 24, CIFAR-10 Batch 3:  Loss:       0.99, Accuracy: 0.521600\n",
      "Epoch 24, CIFAR-10 Batch 4:  Loss:       1.25, Accuracy: 0.539000\n",
      "Epoch 24, CIFAR-10 Batch 5:  Loss:       1.38, Accuracy: 0.512600\n",
      "Epoch 25, CIFAR-10 Batch 1:  Loss:       1.19, Accuracy: 0.534800\n",
      "Epoch 25, CIFAR-10 Batch 2:  Loss:       1.30, Accuracy: 0.536000\n",
      "Epoch 25, CIFAR-10 Batch 3:  Loss:       0.99, Accuracy: 0.528800\n",
      "Epoch 25, CIFAR-10 Batch 4:  Loss:       1.24, Accuracy: 0.537000\n",
      "Epoch 25, CIFAR-10 Batch 5:  Loss:       1.33, Accuracy: 0.523000\n",
      "Epoch 26, CIFAR-10 Batch 1:  Loss:       1.19, Accuracy: 0.534800\n",
      "Epoch 26, CIFAR-10 Batch 2:  Loss:       1.31, Accuracy: 0.533000\n",
      "Epoch 26, CIFAR-10 Batch 3:  Loss:       0.98, Accuracy: 0.535200\n",
      "Epoch 26, CIFAR-10 Batch 4:  Loss:       1.25, Accuracy: 0.538800\n",
      "Epoch 26, CIFAR-10 Batch 5:  Loss:       1.31, Accuracy: 0.528400\n",
      "Epoch 27, CIFAR-10 Batch 1:  Loss:       1.20, Accuracy: 0.535200\n",
      "Epoch 27, CIFAR-10 Batch 2:  Loss:       1.29, Accuracy: 0.538000\n",
      "Epoch 27, CIFAR-10 Batch 3:  Loss:       1.01, Accuracy: 0.530800\n",
      "Epoch 27, CIFAR-10 Batch 4:  Loss:       1.25, Accuracy: 0.539600\n",
      "Epoch 27, CIFAR-10 Batch 5:  Loss:       1.30, Accuracy: 0.529200\n",
      "Epoch 28, CIFAR-10 Batch 1:  Loss:       1.21, Accuracy: 0.532400\n",
      "Epoch 28, CIFAR-10 Batch 2:  Loss:       1.24, Accuracy: 0.542400\n",
      "Epoch 28, CIFAR-10 Batch 3:  Loss:       0.97, Accuracy: 0.532400\n",
      "Epoch 28, CIFAR-10 Batch 4:  Loss:       1.24, Accuracy: 0.539200\n",
      "Epoch 28, CIFAR-10 Batch 5:  Loss:       1.28, Accuracy: 0.525600\n",
      "Epoch 29, CIFAR-10 Batch 1:  Loss:       1.18, Accuracy: 0.535600\n",
      "Epoch 29, CIFAR-10 Batch 2:  Loss:       1.24, Accuracy: 0.544800\n",
      "Epoch 29, CIFAR-10 Batch 3:  Loss:       0.97, Accuracy: 0.536200\n",
      "Epoch 29, CIFAR-10 Batch 4:  Loss:       1.21, Accuracy: 0.546200\n",
      "Epoch 29, CIFAR-10 Batch 5:  Loss:       1.31, Accuracy: 0.523400\n",
      "Epoch 30, CIFAR-10 Batch 1:  Loss:       1.18, Accuracy: 0.535800\n",
      "Epoch 30, CIFAR-10 Batch 2:  Loss:       1.19, Accuracy: 0.543200\n",
      "Epoch 30, CIFAR-10 Batch 3:  Loss:       0.96, Accuracy: 0.541400\n",
      "Epoch 30, CIFAR-10 Batch 4:  Loss:       1.20, Accuracy: 0.542600\n",
      "Epoch 30, CIFAR-10 Batch 5:  Loss:       1.25, Accuracy: 0.539600\n",
      "Epoch 31, CIFAR-10 Batch 1:  Loss:       1.16, Accuracy: 0.540600\n",
      "Epoch 31, CIFAR-10 Batch 2:  Loss:       1.16, Accuracy: 0.543400\n",
      "Epoch 31, CIFAR-10 Batch 3:  Loss:       0.97, Accuracy: 0.544000\n",
      "Epoch 31, CIFAR-10 Batch 4:  Loss:       1.22, Accuracy: 0.541000\n",
      "Epoch 31, CIFAR-10 Batch 5:  Loss:       1.24, Accuracy: 0.541000\n",
      "Epoch 32, CIFAR-10 Batch 1:  Loss:       1.17, Accuracy: 0.538200\n",
      "Epoch 32, CIFAR-10 Batch 2:  Loss:       1.18, Accuracy: 0.546000\n",
      "Epoch 32, CIFAR-10 Batch 3:  Loss:       0.97, Accuracy: 0.543000\n",
      "Epoch 32, CIFAR-10 Batch 4:  Loss:       1.20, Accuracy: 0.544600\n",
      "Epoch 32, CIFAR-10 Batch 5:  Loss:       1.18, Accuracy: 0.545600\n",
      "Epoch 33, CIFAR-10 Batch 1:  Loss:       1.17, Accuracy: 0.537200\n",
      "Epoch 33, CIFAR-10 Batch 2:  Loss:       1.15, Accuracy: 0.545000\n",
      "Epoch 33, CIFAR-10 Batch 3:  Loss:       0.99, Accuracy: 0.545400\n",
      "Epoch 33, CIFAR-10 Batch 4:  Loss:       1.16, Accuracy: 0.547000\n",
      "Epoch 33, CIFAR-10 Batch 5:  Loss:       1.15, Accuracy: 0.537600\n",
      "Epoch 34, CIFAR-10 Batch 1:  Loss:       1.13, Accuracy: 0.542000\n",
      "Epoch 34, CIFAR-10 Batch 2:  Loss:       1.15, Accuracy: 0.548200\n",
      "Epoch 34, CIFAR-10 Batch 3:  Loss:       0.98, Accuracy: 0.548000\n",
      "Epoch 34, CIFAR-10 Batch 4:  Loss:       1.16, Accuracy: 0.546000\n",
      "Epoch 34, CIFAR-10 Batch 5:  Loss:       1.22, Accuracy: 0.537200\n",
      "Epoch 35, CIFAR-10 Batch 1:  Loss:       1.11, Accuracy: 0.543000\n",
      "Epoch 35, CIFAR-10 Batch 2:  Loss:       1.09, Accuracy: 0.548200\n",
      "Epoch 35, CIFAR-10 Batch 3:  Loss:       0.98, Accuracy: 0.546400\n",
      "Epoch 35, CIFAR-10 Batch 4:  Loss:       1.17, Accuracy: 0.552600\n",
      "Epoch 35, CIFAR-10 Batch 5:  Loss:       1.21, Accuracy: 0.532600\n",
      "Epoch 36, CIFAR-10 Batch 1:  Loss:       1.14, Accuracy: 0.541000\n",
      "Epoch 36, CIFAR-10 Batch 2:  Loss:       1.11, Accuracy: 0.552600\n",
      "Epoch 36, CIFAR-10 Batch 3:  Loss:       0.96, Accuracy: 0.548400\n",
      "Epoch 36, CIFAR-10 Batch 4:  Loss:       1.15, Accuracy: 0.554000\n",
      "Epoch 36, CIFAR-10 Batch 5:  Loss:       1.20, Accuracy: 0.538400\n",
      "Epoch 37, CIFAR-10 Batch 1:  Loss:       1.14, Accuracy: 0.546200\n",
      "Epoch 37, CIFAR-10 Batch 2:  Loss:       1.09, Accuracy: 0.552600\n",
      "Epoch 37, CIFAR-10 Batch 3:  Loss:       0.98, Accuracy: 0.548800\n",
      "Epoch 37, CIFAR-10 Batch 4:  Loss:       1.13, Accuracy: 0.549000\n",
      "Epoch 37, CIFAR-10 Batch 5:  Loss:       1.19, Accuracy: 0.542200\n",
      "Epoch 38, CIFAR-10 Batch 1:  Loss:       1.14, Accuracy: 0.546800\n",
      "Epoch 38, CIFAR-10 Batch 2:  Loss:       1.10, Accuracy: 0.552600\n",
      "Epoch 38, CIFAR-10 Batch 3:  Loss:       0.94, Accuracy: 0.552000\n",
      "Epoch 38, CIFAR-10 Batch 4:  Loss:       1.12, Accuracy: 0.550800\n",
      "Epoch 38, CIFAR-10 Batch 5:  Loss:       1.19, Accuracy: 0.539400\n",
      "Epoch 39, CIFAR-10 Batch 1:  Loss:       1.13, Accuracy: 0.549600\n",
      "Epoch 39, CIFAR-10 Batch 2:  Loss:       1.08, Accuracy: 0.550800\n",
      "Epoch 39, CIFAR-10 Batch 3:  Loss:       0.95, Accuracy: 0.547600\n",
      "Epoch 39, CIFAR-10 Batch 4:  Loss:       1.13, Accuracy: 0.554600\n",
      "Epoch 39, CIFAR-10 Batch 5:  Loss:       1.15, Accuracy: 0.543800\n",
      "Epoch 40, CIFAR-10 Batch 1:  Loss:       1.11, Accuracy: 0.552600\n",
      "Epoch 40, CIFAR-10 Batch 2:  Loss:       1.06, Accuracy: 0.551200\n",
      "Epoch 40, CIFAR-10 Batch 3:  Loss:       0.98, Accuracy: 0.551600\n",
      "Epoch 40, CIFAR-10 Batch 4:  Loss:       1.08, Accuracy: 0.555200\n",
      "Epoch 40, CIFAR-10 Batch 5:  Loss:       1.18, Accuracy: 0.543200\n",
      "Epoch 41, CIFAR-10 Batch 1:  Loss:       1.12, Accuracy: 0.551600\n",
      "Epoch 41, CIFAR-10 Batch 2:  Loss:       1.05, Accuracy: 0.554000\n",
      "Epoch 41, CIFAR-10 Batch 3:  Loss:       1.00, Accuracy: 0.547200\n",
      "Epoch 41, CIFAR-10 Batch 4:  Loss:       1.06, Accuracy: 0.553400\n",
      "Epoch 41, CIFAR-10 Batch 5:  Loss:       1.17, Accuracy: 0.542400\n",
      "Epoch 42, CIFAR-10 Batch 1:  Loss:       1.18, Accuracy: 0.551600\n",
      "Epoch 42, CIFAR-10 Batch 2:  Loss:       1.04, Accuracy: 0.559800\n",
      "Epoch 42, CIFAR-10 Batch 3:  Loss:       0.98, Accuracy: 0.548800\n",
      "Epoch 42, CIFAR-10 Batch 4:  Loss:       1.06, Accuracy: 0.555800\n",
      "Epoch 42, CIFAR-10 Batch 5:  Loss:       1.17, Accuracy: 0.540600\n",
      "Epoch 43, CIFAR-10 Batch 1:  Loss:       1.11, Accuracy: 0.554800\n",
      "Epoch 43, CIFAR-10 Batch 2:  Loss:       1.04, Accuracy: 0.553200\n",
      "Epoch 43, CIFAR-10 Batch 3:  Loss:       1.00, Accuracy: 0.544600\n",
      "Epoch 43, CIFAR-10 Batch 4:  Loss:       1.04, Accuracy: 0.558800\n",
      "Epoch 43, CIFAR-10 Batch 5:  Loss:       1.21, Accuracy: 0.536600\n",
      "Epoch 44, CIFAR-10 Batch 1:  Loss:       1.08, Accuracy: 0.552600\n",
      "Epoch 44, CIFAR-10 Batch 2:  Loss:       1.03, Accuracy: 0.556800\n",
      "Epoch 44, CIFAR-10 Batch 3:  Loss:       0.98, Accuracy: 0.550600\n",
      "Epoch 44, CIFAR-10 Batch 4:  Loss:       1.03, Accuracy: 0.555800\n",
      "Epoch 44, CIFAR-10 Batch 5:  Loss:       1.18, Accuracy: 0.539000\n",
      "Epoch 45, CIFAR-10 Batch 1:  Loss:       1.11, Accuracy: 0.556400\n",
      "Epoch 45, CIFAR-10 Batch 2:  Loss:       1.06, Accuracy: 0.556400\n",
      "Epoch 45, CIFAR-10 Batch 3:  Loss:       1.01, Accuracy: 0.549000\n",
      "Epoch 45, CIFAR-10 Batch 4:  Loss:       1.01, Accuracy: 0.556600\n",
      "Epoch 45, CIFAR-10 Batch 5:  Loss:       1.22, Accuracy: 0.536400\n",
      "Epoch 46, CIFAR-10 Batch 1:  Loss:       1.08, Accuracy: 0.555000\n",
      "Epoch 46, CIFAR-10 Batch 2:  Loss:       1.05, Accuracy: 0.555000\n",
      "Epoch 46, CIFAR-10 Batch 3:  Loss:       1.01, Accuracy: 0.548600\n",
      "Epoch 46, CIFAR-10 Batch 4:  Loss:       0.99, Accuracy: 0.559400\n",
      "Epoch 46, CIFAR-10 Batch 5:  Loss:       1.18, Accuracy: 0.535400\n",
      "Epoch 47, CIFAR-10 Batch 1:  Loss:       1.07, Accuracy: 0.559800\n",
      "Epoch 47, CIFAR-10 Batch 2:  Loss:       0.99, Accuracy: 0.561200\n",
      "Epoch 47, CIFAR-10 Batch 3:  Loss:       0.98, Accuracy: 0.552800\n",
      "Epoch 47, CIFAR-10 Batch 4:  Loss:       1.01, Accuracy: 0.561600\n",
      "Epoch 47, CIFAR-10 Batch 5:  Loss:       1.18, Accuracy: 0.540600\n",
      "Epoch 48, CIFAR-10 Batch 1:  Loss:       1.11, Accuracy: 0.560200\n",
      "Epoch 48, CIFAR-10 Batch 2:  Loss:       1.04, Accuracy: 0.558400\n",
      "Epoch 48, CIFAR-10 Batch 3:  Loss:       0.99, Accuracy: 0.550200\n",
      "Epoch 48, CIFAR-10 Batch 4:  Loss:       1.00, Accuracy: 0.558600\n",
      "Epoch 48, CIFAR-10 Batch 5:  Loss:       1.16, Accuracy: 0.539200\n",
      "Epoch 49, CIFAR-10 Batch 1:  Loss:       1.09, Accuracy: 0.556600\n",
      "Epoch 49, CIFAR-10 Batch 2:  Loss:       1.02, Accuracy: 0.559200\n",
      "Epoch 49, CIFAR-10 Batch 3:  Loss:       0.98, Accuracy: 0.551800\n",
      "Epoch 49, CIFAR-10 Batch 4:  Loss:       1.01, Accuracy: 0.559400\n",
      "Epoch 49, CIFAR-10 Batch 5:  Loss:       1.15, Accuracy: 0.547800\n",
      "Epoch 50, CIFAR-10 Batch 1:  Loss:       1.09, Accuracy: 0.559600\n",
      "Epoch 50, CIFAR-10 Batch 2:  Loss:       1.03, Accuracy: 0.567000\n",
      "Epoch 50, CIFAR-10 Batch 3:  Loss:       0.95, Accuracy: 0.558800\n",
      "Epoch 50, CIFAR-10 Batch 4:  Loss:       1.03, Accuracy: 0.561200\n",
      "Epoch 50, CIFAR-10 Batch 5:  Loss:       1.16, Accuracy: 0.536400\n"
     ]
    }
   ],
   "source": [
    "\"\"\"\n",
    "DON'T MODIFY ANYTHING IN THIS CELL\n",
    "\"\"\"\n",
    "save_model_path = './image_classification'\n",
    "\n",
    "print('Training...')\n",
    "with tf.Session() as sess:\n",
    "    # Initializing the variables\n",
    "    sess.run(tf.global_variables_initializer())\n",
    "    \n",
    "    # Training cycle\n",
    "    for epoch in range(epochs):\n",
    "        # Loop over all batches\n",
    "        n_batches = 5\n",
    "        for batch_i in range(1, n_batches + 1):\n",
    "            for batch_features, batch_labels in helper.load_preprocess_training_batch(batch_i, batch_size):\n",
    "                train_neural_network(sess, optimizer, keep_probability, batch_features, batch_labels)\n",
    "            print('Epoch {:>2}, CIFAR-10 Batch {}:  '.format(epoch + 1, batch_i), end='')\n",
    "            print_stats(sess, batch_features, batch_labels, cost, accuracy)\n",
    "            \n",
    "    # Save Model\n",
    "    saver = tf.train.Saver()\n",
    "    save_path = saver.save(sess, save_model_path)"
   ]
  },
  {
   "cell_type": "markdown",
   "metadata": {},
   "source": [
    "# Checkpoint\n",
    "The model has been saved to disk.\n",
    "## Test Model\n",
    "Test your model against the test dataset.  This will be your final accuracy. You should have an accuracy greater than 50%. If you don't, keep tweaking the model architecture and parameters."
   ]
  },
  {
   "cell_type": "code",
   "execution_count": 59,
   "metadata": {
    "collapsed": false
   },
   "outputs": [
    {
     "name": "stdout",
     "output_type": "stream",
     "text": [
      "Testing Accuracy: 0.5528463375796179\n",
      "\n"
     ]
    },
    {
     "data": {
      "image/png": "[encoded data removed]",
      "text/plain": [
       "<matplotlib.figure.Figure at 0x7f526ce1d0f0>"
      ]
     },
     "metadata": {
      "image/png": {
       "height": 319,
       "width": 355
      }
     },
     "output_type": "display_data"
    }
   ],
   "source": [
    "\"\"\"\n",
    "DON'T MODIFY ANYTHING IN THIS CELL\n",
    "\"\"\"\n",
    "%matplotlib inline\n",
    "%config InlineBackend.figure_format = 'retina'\n",
    "\n",
    "import tensorflow as tf\n",
    "import pickle\n",
    "import helper\n",
    "import random\n",
    "\n",
    "# Set batch size if not already set\n",
    "try:\n",
    "    if batch_size:\n",
    "        pass\n",
    "except NameError:\n",
    "    batch_size = 64\n",
    "\n",
    "save_model_path = './image_classification'\n",
    "n_samples = 4\n",
    "top_n_predictions = 3\n",
    "\n",
    "def test_model():\n",
    "    \"\"\"\n",
    "    Test the saved model against the test dataset\n",
    "    \"\"\"\n",
    "\n",
    "    test_features, test_labels = pickle.load(open('preprocess_training.p', mode='rb'))\n",
    "    loaded_graph = tf.Graph()\n",
    "\n",
    "    with tf.Session(graph=loaded_graph) as sess:\n",
    "        # Load model\n",
    "        loader = tf.train.import_meta_graph(save_model_path + '.meta')\n",
    "        loader.restore(sess, save_model_path)\n",
    "\n",
    "        # Get Tensors from loaded model\n",
    "        loaded_x = loaded_graph.get_tensor_by_name('x:0')\n",
    "        loaded_y = loaded_graph.get_tensor_by_name('y:0')\n",
    "        loaded_keep_prob = loaded_graph.get_tensor_by_name('keep_prob:0')\n",
    "        loaded_logits = loaded_graph.get_tensor_by_name('logits:0')\n",
    "        loaded_acc = loaded_graph.get_tensor_by_name('accuracy:0')\n",
    "        \n",
    "        # Get accuracy in batches for memory limitations\n",
    "        test_batch_acc_total = 0\n",
    "        test_batch_count = 0\n",
    "        \n",
    "        for train_feature_batch, train_label_batch in helper.batch_features_labels(test_features, test_labels, batch_size):\n",
    "            test_batch_acc_total += sess.run(\n",
    "                loaded_acc,\n",
    "                feed_dict={loaded_x: train_feature_batch, loaded_y: train_label_batch, loaded_keep_prob: 1.0})\n",
    "            test_batch_count += 1\n",
    "\n",
    "        print('Testing Accuracy: {}\\n'.format(test_batch_acc_total/test_batch_count))\n",
    "\n",
    "        # Print Random Samples\n",
    "        random_test_features, random_test_labels = tuple(zip(*random.sample(list(zip(test_features, test_labels)), n_samples)))\n",
    "        random_test_predictions = sess.run(\n",
    "            tf.nn.top_k(tf.nn.softmax(loaded_logits), top_n_predictions),\n",
    "            feed_dict={loaded_x: random_test_features, loaded_y: random_test_labels, loaded_keep_prob: 1.0})\n",
    "        helper.display_image_predictions(random_test_features, random_test_labels, random_test_predictions)\n",
    "\n",
    "\n",
    "test_model()"
   ]
  },
  {
   "cell_type": "markdown",
   "metadata": {},
   "source": [
    "## Why 50-80% Accuracy?\n",
    "You might be wondering why you can't get an accuracy any higher. First things first, 50% isn't bad for a simple CNN.  Pure guessing would get you 10% accuracy. That's because there are many more techniques that can be applied to your model and we recemmond that once you are done with this project, you explore!\n",
    "\n",
    "## Submitting This Project\n",
    "When submitting this project, make sure to run all the cells before saving the notebook.  Save the notebook file as \"image_classification.ipynb\" and save it as a HTML file under \"File\" -> \"Download as\".  Include the \"helper.py\" and \"problem_unittests.py\" files in your submission."
   ]
  },
  {
   "cell_type": "code",
   "execution_count": null,
   "metadata": {
    "collapsed": true
   },
   "outputs": [],
   "source": []
  }
 ],
 "metadata": {
  "anaconda-cloud": {},
  "kernelspec": {
   "display_name": "Python 3",
   "language": "python",
   "name": "python3"
  },
  "language_info": {
   "codemirror_mode": {
    "name": "ipython",
    "version": 3
   },
   "file_extension": ".py",
   "mimetype": "text/x-python",
   "name": "python",
   "nbconvert_exporter": "python",
   "pygments_lexer": "ipython3",
   "version": "3.6.0"
  }
 },
 "nbformat": 4,
 "nbformat_minor": 0
}
